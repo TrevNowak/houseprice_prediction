{
 "cells": [
  {
   "cell_type": "markdown",
   "id": "d901ce4d-93c0-4e6e-b0c1-6f8672b8a3d7",
   "metadata": {},
   "source": [
    "# Predicting House Prices"
   ]
  },
  {
   "cell_type": "markdown",
   "id": "c0353ecb-b155-4ebc-a6b3-0eb74d748323",
   "metadata": {},
   "source": [
    "## 1. Import Libraray"
   ]
  },
  {
   "cell_type": "code",
   "execution_count": 2,
   "id": "a277e1cb-0164-498e-822d-1e3149cbf3b5",
   "metadata": {},
   "outputs": [],
   "source": [
    "import pandas as pd\n",
    "import numpy as np\n",
    "import seaborn as sns\n",
    "import matplotlib.pyplot as plt\n",
    "import sklearn\n",
    "from xgboost import XGBRegressor"
   ]
  },
  {
   "cell_type": "code",
   "execution_count": 3,
   "id": "5117dc7c-e9ee-453b-b9d7-f10e00709ba5",
   "metadata": {},
   "outputs": [],
   "source": [
    "from pathlib import Path\n",
    "import sys\n",
    "# Add project root so \"from configs import config\" works\n",
    "sys.path.append(str(Path.cwd().resolve().parents[0]))\n",
    "\n",
    "from configs import config\n",
    "import pandas as pd\n",
    "df = pd.read_csv(config.RAW_DATA)"
   ]
  },
  {
   "cell_type": "markdown",
   "id": "f0f3966a-94d5-4b81-bf38-de2916367dbe",
   "metadata": {},
   "source": [
    "## Phase 2 — Split first, then preprocess with a Pipeline (no leakage)"
   ]
  },
  {
   "cell_type": "code",
   "execution_count": 4,
   "id": "bfb423f8",
   "metadata": {},
   "outputs": [],
   "source": [
    "from sklearn.model_selection import train_test_split\n",
    "from sklearn.compose import ColumnTransformer, make_column_selector\n",
    "from sklearn.pipeline import Pipeline\n",
    "from sklearn.impute import SimpleImputer\n",
    "from sklearn.preprocessing import OneHotEncoder, PowerTransformer\n",
    "from sklearn.linear_model import LinearRegression\n",
    "from sklearn.dummy import DummyRegressor\n",
    "from sklearn.metrics import mean_absolute_error, mean_squared_error, r2_score\n",
    "from configs import config\n",
    "\n",
    "# 1) Split FIRST (prevents leakage)\n",
    "X = df.drop(columns=[config.TARGET])\n",
    "y = df[config.TARGET]\n",
    "\n",
    "X_train, X_test, y_train, y_test = train_test_split(\n",
    "    X, y, test_size=config.TEST_SIZE, random_state=config.SEED\n",
    ")\n",
    "\n",
    "# 2) Column selectors\n",
    "num_sel = make_column_selector(dtype_include=np.number)\n",
    "cat_sel = make_column_selector(dtype_include=[\"object\", \"category\", \"bool\"])\n",
    "\n",
    "# 3) Preprocessing blocks\n",
    "num_pipe = Pipeline(steps=[\n",
    "    (\"imputer\", SimpleImputer(strategy=\"median\")),\n",
    "    # Systematic outlier/skew handling without manual clipping:\n",
    "    (\"yeojohnson\", PowerTransformer(method=\"yeo-johnson\", standardize=True)),\n",
    "])\n",
    "\n",
    "cat_pipe = Pipeline(steps=[\n",
    "    (\"imputer\", SimpleImputer(strategy=\"most_frequent\")),\n",
    "    (\"onehot\", OneHotEncoder(handle_unknown=\"ignore\")),\n",
    "])\n",
    "\n",
    "preprocess = ColumnTransformer(\n",
    "    transformers=[\n",
    "        (\"num\", num_pipe, num_sel),\n",
    "        (\"cat\", cat_pipe, cat_sel),\n",
    "    ],\n",
    "    remainder=\"drop\",\n",
    ")"
   ]
  },
  {
   "cell_type": "markdown",
   "id": "22a67ca2-4b01-43c0-921b-dd3f5d7ca29a",
   "metadata": {},
   "source": [
    "## Phase 3 — Add a dumb baseline + tidy metrics (quick win)"
   ]
  },
  {
   "cell_type": "code",
   "execution_count": 8,
   "id": "6bb59709-282c-46dc-845f-896ec18d07db",
   "metadata": {},
   "outputs": [
    {
     "name": "stdout",
     "output_type": "stream",
     "text": [
      "[DUMMY_median] MAE=59,568.25 | RMSE=7,861,866,593.52 | R²=-0.0250\n"
     ]
    }
   ],
   "source": [
    "def evaluate(model, X_tr, y_tr, X_te, y_te, name=\"model\"):\n",
    "    model.fit(X_tr, y_tr)\n",
    "    preds = model.predict(X_te)\n",
    "    mae = mean_absolute_error(y_te, preds)\n",
    "    rmse = mean_squared_error(y_te, preds)\n",
    "    r2 = r2_score(y_te, preds)\n",
    "    print(f\"[{name}] MAE={mae:,.2f} | RMSE={rmse:,.2f} | R²={r2:.4f}\")\n",
    "    return {\"name\": name, \"MAE\": mae, \"RMSE\": rmse, \"R2\": r2}\n",
    "\n",
    "dummy = Pipeline([(\"prep\", preprocess), (\"model\", DummyRegressor(strategy=\"median\"))])\n",
    "baseline_metrics = evaluate(dummy, X_train, y_train, X_test, y_test, \"DUMMY_median\")\n"
   ]
  },
  {
   "cell_type": "markdown",
   "id": "f0a1668b-8bce-46b7-81cc-174cf503e14c",
   "metadata": {},
   "source": [
    "## Phase 4 — Proper Linear Regression and working XGBoost"
   ]
  },
  {
   "cell_type": "code",
   "execution_count": 9,
   "id": "8acab9bc-a7b3-418c-9af5-bebeaa5b595a",
   "metadata": {},
   "outputs": [
    {
     "name": "stdout",
     "output_type": "stream",
     "text": [
      "[LinearRegression] MAE=27,077.81 | RMSE=17,011,181,193.82 | R²=-1.2178\n",
      "[XGB_default] MAE=15,427.96 | RMSE=611,784,768.00 | R²=0.9202\n"
     ]
    }
   ],
   "source": [
    "linreg = Pipeline([\n",
    "    (\"prep\", preprocess),\n",
    "    (\"model\", LinearRegression())\n",
    "])\n",
    "lr_metrics = evaluate(linreg, X_train, y_train, X_test, y_test, \"LinearRegression\")\n",
    "\n",
    "xgb = Pipeline([\n",
    "    (\"prep\", preprocess),\n",
    "    (\"model\", XGBRegressor(\n",
    "        objective=\"reg:squarederror\",\n",
    "        n_estimators=500,\n",
    "        learning_rate=0.05,\n",
    "        max_depth=6,\n",
    "        subsample=0.8,\n",
    "        colsample_bytree=0.8,\n",
    "        random_state=config.SEED,\n",
    "        tree_method=\"hist\",\n",
    "        n_jobs=-1,\n",
    "    ))\n",
    "])\n",
    "xgb_metrics = evaluate(xgb, X_train, y_train, X_test, y_test, \"XGB_default\")"
   ]
  },
  {
   "cell_type": "markdown",
   "id": "cb61b2b4-ad3c-4ee6-8ed3-89d789e8a880",
   "metadata": {},
   "source": [
    "## Phase 5 — Cross-validation + hyperparameter search (robust evaluation)"
   ]
  },
  {
   "cell_type": "code",
   "execution_count": 10,
   "id": "997a1f61-f59f-4dae-a748-83531a660e19",
   "metadata": {},
   "outputs": [
    {
     "name": "stdout",
     "output_type": "stream",
     "text": [
      "XGB CV RMSE: [25964.176 33024.684 36624.895 22963.674 23230.701] mean: 28361.626\n"
     ]
    }
   ],
   "source": [
    "from sklearn.model_selection import cross_val_score, KFold\n",
    "\n",
    "cv = KFold(n_splits=config.CV_FOLDS, shuffle=True, random_state=config.SEED)\n",
    "cv_rmse = -cross_val_score(xgb, X_train, y_train, cv=cv, scoring=\"neg_root_mean_squared_error\")\n",
    "print(\"XGB CV RMSE:\", np.round(cv_rmse, 3), \"mean:\", cv_rmse.mean().round(3))"
   ]
  },
  {
   "cell_type": "code",
   "execution_count": 11,
   "id": "17993910-fe95-4f0c-a815-5e4235501f85",
   "metadata": {},
   "outputs": [
    {
     "name": "stdout",
     "output_type": "stream",
     "text": [
      "Fitting 5 folds for each of 30 candidates, totalling 150 fits\n",
      "Best CV RMSE: 162.9682915861242\n",
      "Best params: {'model__subsample': 0.7, 'model__reg_lambda': 0.1, 'model__reg_alpha': 0.001, 'model__n_estimators': 300, 'model__max_depth': 4, 'model__learning_rate': 0.05, 'model__colsample_bytree': 0.8}\n"
     ]
    }
   ],
   "source": [
    "from sklearn.model_selection import RandomizedSearchCV\n",
    "\n",
    "param_distributions = {\n",
    "    \"model__n_estimators\": [300, 500, 800, 1200],\n",
    "    \"model__max_depth\": [4, 6, 8, 10],\n",
    "    \"model__learning_rate\": [0.03, 0.05, 0.07, 0.1],\n",
    "    \"model__subsample\": [0.7, 0.8, 0.9, 1.0],\n",
    "    \"model__colsample_bytree\": [0.7, 0.8, 0.9, 1.0],\n",
    "    \"model__reg_alpha\": [0, 0.001, 0.01, 0.1],\n",
    "    \"model__reg_lambda\": [0.1, 0.5, 1.0, 2.0, 5.0],\n",
    "}\n",
    "\n",
    "search = RandomizedSearchCV(\n",
    "    xgb, param_distributions=param_distributions,\n",
    "    n_iter=30, scoring=\"neg_root_mean_squared_error\",\n",
    "    cv=cv, n_jobs=-1, random_state=config.SEED, verbose=1\n",
    ")\n",
    "search.fit(X_train, y_train)  # no early stopping inside CV\n",
    "\n",
    "print(\"Best CV RMSE:\", (-search.best_score_)**0.5)\n",
    "print(\"Best params:\", search.best_params_)\n",
    "best_xgb = search.best_estimator_\n"
   ]
  },
  {
   "cell_type": "markdown",
   "id": "9b7c31c1-9c55-4bf3-839f-6029c839ee0e",
   "metadata": {},
   "source": [
    "## Phase 6 — Smarter EDA (replace the spammy loops)"
   ]
  },
  {
   "cell_type": "code",
   "execution_count": 12,
   "id": "0eeb95c4-e132-4b14-9cfd-bdc7b2058665",
   "metadata": {},
   "outputs": [
    {
     "data": {
      "text/html": [
       "<div>\n",
       "<style scoped>\n",
       "    .dataframe tbody tr th:only-of-type {\n",
       "        vertical-align: middle;\n",
       "    }\n",
       "\n",
       "    .dataframe tbody tr th {\n",
       "        vertical-align: top;\n",
       "    }\n",
       "\n",
       "    .dataframe thead th {\n",
       "        text-align: right;\n",
       "    }\n",
       "</style>\n",
       "<table border=\"1\" class=\"dataframe\">\n",
       "  <thead>\n",
       "    <tr style=\"text-align: right;\">\n",
       "      <th></th>\n",
       "      <th>abs_corr_with_target</th>\n",
       "    </tr>\n",
       "  </thead>\n",
       "  <tbody>\n",
       "    <tr>\n",
       "      <th>OverallQual</th>\n",
       "      <td>0.790982</td>\n",
       "    </tr>\n",
       "    <tr>\n",
       "      <th>GrLivArea</th>\n",
       "      <td>0.708624</td>\n",
       "    </tr>\n",
       "    <tr>\n",
       "      <th>GarageCars</th>\n",
       "      <td>0.640409</td>\n",
       "    </tr>\n",
       "    <tr>\n",
       "      <th>GarageArea</th>\n",
       "      <td>0.623431</td>\n",
       "    </tr>\n",
       "    <tr>\n",
       "      <th>TotalBsmtSF</th>\n",
       "      <td>0.613581</td>\n",
       "    </tr>\n",
       "    <tr>\n",
       "      <th>1stFlrSF</th>\n",
       "      <td>0.605852</td>\n",
       "    </tr>\n",
       "    <tr>\n",
       "      <th>FullBath</th>\n",
       "      <td>0.560664</td>\n",
       "    </tr>\n",
       "    <tr>\n",
       "      <th>TotRmsAbvGrd</th>\n",
       "      <td>0.533723</td>\n",
       "    </tr>\n",
       "    <tr>\n",
       "      <th>YearBuilt</th>\n",
       "      <td>0.522897</td>\n",
       "    </tr>\n",
       "    <tr>\n",
       "      <th>YearRemodAdd</th>\n",
       "      <td>0.507101</td>\n",
       "    </tr>\n",
       "    <tr>\n",
       "      <th>GarageYrBlt</th>\n",
       "      <td>0.486362</td>\n",
       "    </tr>\n",
       "    <tr>\n",
       "      <th>MasVnrArea</th>\n",
       "      <td>0.477493</td>\n",
       "    </tr>\n",
       "  </tbody>\n",
       "</table>\n",
       "</div>"
      ],
      "text/plain": [
       "              abs_corr_with_target\n",
       "OverallQual               0.790982\n",
       "GrLivArea                 0.708624\n",
       "GarageCars                0.640409\n",
       "GarageArea                0.623431\n",
       "TotalBsmtSF               0.613581\n",
       "1stFlrSF                  0.605852\n",
       "FullBath                  0.560664\n",
       "TotRmsAbvGrd              0.533723\n",
       "YearBuilt                 0.522897\n",
       "YearRemodAdd              0.507101\n",
       "GarageYrBlt               0.486362\n",
       "MasVnrArea                0.477493"
      ]
     },
     "metadata": {},
     "output_type": "display_data"
    },
    {
     "data": {
      "text/plain": [
       "MSZoning\n",
       "RL         1151\n",
       "RM          218\n",
       "FV           65\n",
       "RH           16\n",
       "C (all)      10\n",
       "Name: count, dtype: int64"
      ]
     },
     "metadata": {},
     "output_type": "display_data"
    },
    {
     "data": {
      "text/plain": [
       "Street\n",
       "Pave    1454\n",
       "Grvl       6\n",
       "Name: count, dtype: int64"
      ]
     },
     "metadata": {},
     "output_type": "display_data"
    },
    {
     "data": {
      "text/plain": [
       "Alley\n",
       "Grvl    50\n",
       "Pave    41\n",
       "Name: count, dtype: int64"
      ]
     },
     "metadata": {},
     "output_type": "display_data"
    },
    {
     "data": {
      "text/plain": [
       "LotShape\n",
       "Reg    925\n",
       "IR1    484\n",
       "IR2     41\n",
       "IR3     10\n",
       "Name: count, dtype: int64"
      ]
     },
     "metadata": {},
     "output_type": "display_data"
    },
    {
     "data": {
      "text/plain": [
       "LandContour\n",
       "Lvl    1311\n",
       "Bnk      63\n",
       "HLS      50\n",
       "Low      36\n",
       "Name: count, dtype: int64"
      ]
     },
     "metadata": {},
     "output_type": "display_data"
    }
   ],
   "source": [
    "# Top 12 numeric correlations with target\n",
    "num_cols = df.select_dtypes(include=np.number).columns.drop(config.TARGET)\n",
    "corr = df[num_cols].corrwith(df[config.TARGET]).abs().sort_values(ascending=False).head(12)\n",
    "display(corr.to_frame(\"abs_corr_with_target\"))\n",
    "\n",
    "# Few categorical counts for the most frequent cats\n",
    "cat_cols = df.select_dtypes(include=[\"object\",\"category\",\"bool\"]).columns\n",
    "for c in cat_cols[:5]:  # limit to a few important ones\n",
    "    display(df[c].value_counts().head(10))\n"
   ]
  },
  {
   "cell_type": "markdown",
   "id": "a4e6cc17-1381-4c4b-82be-f87d1e9eb20b",
   "metadata": {},
   "source": [
    "## Phase 7 — Clean visualization: predicted vs. actual"
   ]
  },
  {
   "cell_type": "code",
   "execution_count": 14,
   "id": "9b1cf18c-5da7-4372-b0e9-ce31919b65e7",
   "metadata": {},
   "outputs": [
    {
     "data": {
      "image/png": "[encoded data removed]",
      "text/plain": [
       "<Figure size 600x600 with 1 Axes>"
      ]
     },
     "metadata": {},
     "output_type": "display_data"
    },
    {
     "data": {
      "image/png": "[encoded data removed]",
      "text/plain": [
       "<Figure size 600x600 with 1 Axes>"
      ]
     },
     "metadata": {},
     "output_type": "display_data"
    }
   ],
   "source": [
    "def plot_pred_vs_actual(y_true, y_pred, title):\n",
    "    plt.figure(figsize=(6,6))\n",
    "    plt.scatter(y_true, y_pred, alpha=0.5)\n",
    "    lims = [min(y_true.min(), y_pred.min()), max(y_true.max(), y_pred.max())]\n",
    "    plt.plot(lims, lims, \"r--\", linewidth=2)\n",
    "    plt.xlabel(\"Actual\"); plt.ylabel(\"Predicted\"); plt.title(title)\n",
    "    plt.tight_layout(); plt.show()\n",
    "\n",
    "# ---- Linear Regression ----\n",
    "y_pred_lr = linreg.predict(X_test)\n",
    "plot_pred_vs_actual(y_test, y_pred_lr, \"Linear Regression — Predicted vs Actual\")\n",
    "\n",
    "# ---- XGBoost ----\n",
    "y_pred_xgb = xgb.predict(X_test)\n",
    "plot_pred_vs_actual(y_test, y_pred_xgb, \"XGBoost — Predicted vs Actual\")\n"
   ]
  },
  {
   "cell_type": "markdown",
   "id": "11a8ab94-320f-42c4-a7d7-d43590aefd66",
   "metadata": {},
   "source": [
    "## Phase 8 — Minimal experiment tracking (CSV logger now; MLflow later)"
   ]
  },
  {
   "cell_type": "code",
   "execution_count": 15,
   "id": "75d9a4dd-d726-4b92-9939-8666b92519fa",
   "metadata": {},
   "outputs": [],
   "source": [
    "import time\n",
    "\n",
    "def log_experiment(row: dict, csv_path=config.EXPERIMENTS_CSV):\n",
    "    row = {\"ts\": time.strftime(\"%Y-%m-%d %H:%M:%S\"), **row}\n",
    "    csv_path = Path(csv_path)\n",
    "    if csv_path.exists():\n",
    "        pd.DataFrame([row]).to_csv(csv_path, mode=\"a\", header=False, index=False)\n",
    "    else:\n",
    "        pd.DataFrame([row]).to_csv(csv_path, index=False)\n",
    "\n",
    "# Example logging\n",
    "log_experiment({\n",
    "    \"model\": \"XGB(best_random_search)\",\n",
    "    **xgb_metrics  # or recompute with best_xgb\n",
    "})\n"
   ]
  },
  {
   "cell_type": "markdown",
   "id": "c7b151a3-9148-46e0-be51-f8001ffd1c47",
   "metadata": {},
   "source": [
    "## Phase 9 — Save artifact (serialize the whole pipeline)"
   ]
  },
  {
   "cell_type": "code",
   "execution_count": 16,
   "id": "1ca6b82f-0ca8-499d-b92e-e5e3e1821090",
   "metadata": {},
   "outputs": [
    {
     "name": "stdout",
     "output_type": "stream",
     "text": [
      "Saved: /Users/trevionnowakowski/Code/houseprice_prediction/models/xgb_pipeline_50e3381c.joblib\n"
     ]
    }
   ],
   "source": [
    "import joblib, uuid\n",
    "\n",
    "config.MODELS_DIR.mkdir(parents=True, exist_ok=True)\n",
    "model_path = config.MODELS_DIR / f\"xgb_pipeline_{uuid.uuid4().hex[:8]}.joblib\"\n",
    "joblib.dump(best_xgb, model_path)\n",
    "print(\"Saved:\", model_path)\n"
   ]
  },
  {
   "cell_type": "markdown",
   "id": "b8095580-8690-42fa-be46-95371310de08",
   "metadata": {},
   "source": [
    "## Phase 10 — Tiny inference script (deployment-ready skeleton)"
   ]
  },
  {
   "cell_type": "code",
   "execution_count": 17,
   "id": "88930d41-2b1b-4c06-81b8-653ccca1310f",
   "metadata": {},
   "outputs": [],
   "source": [
    "def load_pipeline(path):\n",
    "    return joblib.load(path)\n",
    "\n",
    "def predict_dict(pipeline, sample: dict):\n",
    "    X = pd.DataFrame([sample])\n",
    "    return pipeline.predict(X)[0]\n"
   ]
  },
  {
   "cell_type": "code",
   "execution_count": 18,
   "id": "fe2419cd-a050-4fa8-8c33-42c39a15126f",
   "metadata": {},
   "outputs": [
    {
     "ename": "ImportError",
     "evalue": "cannot import name 'load_pipeline' from 'src.utils' (/Users/trevionnowakowski/Code/houseprice_prediction/src/utils.py)",
     "output_type": "error",
     "traceback": [
      "\u001b[31m---------------------------------------------------------------------------\u001b[39m",
      "\u001b[31mImportError\u001b[39m                               Traceback (most recent call last)",
      "\u001b[36mCell\u001b[39m\u001b[36m \u001b[39m\u001b[32mIn[18]\u001b[39m\u001b[32m, line 2\u001b[39m\n\u001b[32m      1\u001b[39m \u001b[38;5;28;01mimport\u001b[39;00m\u001b[38;5;250m \u001b[39m\u001b[34;01margparse\u001b[39;00m,\u001b[38;5;250m \u001b[39m\u001b[34;01mjson\u001b[39;00m\n\u001b[32m----> \u001b[39m\u001b[32m2\u001b[39m \u001b[38;5;28;01mfrom\u001b[39;00m\u001b[38;5;250m \u001b[39m\u001b[34;01msrc\u001b[39;00m\u001b[34;01m.\u001b[39;00m\u001b[34;01mutils\u001b[39;00m\u001b[38;5;250m \u001b[39m\u001b[38;5;28;01mimport\u001b[39;00m load_pipeline, predict_dict\n\u001b[32m      4\u001b[39m parser = argparse.ArgumentParser()\n\u001b[32m      5\u001b[39m parser.add_argument(\u001b[33m\"\u001b[39m\u001b[33m--model\u001b[39m\u001b[33m\"\u001b[39m, required=\u001b[38;5;28;01mTrue\u001b[39;00m, help=\u001b[33m\"\u001b[39m\u001b[33mpath to .joblib\u001b[39m\u001b[33m\"\u001b[39m)\n",
      "\u001b[31mImportError\u001b[39m: cannot import name 'load_pipeline' from 'src.utils' (/Users/trevionnowakowski/Code/houseprice_prediction/src/utils.py)"
     ]
    }
   ],
   "source": [
    "import argparse, json\n",
    "from src.utils import load_pipeline, predict_dict\n",
    "\n",
    "parser = argparse.ArgumentParser()\n",
    "parser.add_argument(\"--model\", required=True, help=\"path to .joblib\")\n",
    "parser.add_argument(\"--features\", required=True, help='JSON dict of feature_name: value')\n",
    "args = parser.parse_args()\n",
    "\n",
    "pipe = load_pipeline(args.model)\n",
    "features = json.loads(args.features)\n",
    "pred = predict_dict(pipe, features)\n",
    "print(f\"Predicted price: {pred:,.2f}\")"
   ]
  },
  {
   "cell_type": "code",
   "execution_count": null,
   "id": "4cd5a472-0181-4a27-8bf0-ae6c3c50b3ab",
   "metadata": {},
   "outputs": [],
   "source": []
  }
 ],
 "metadata": {
  "kernelspec": {
   "display_name": "Python 3 (ipykernel)",
   "language": "python",
   "name": "python3"
  },
  "language_info": {
   "codemirror_mode": {
    "name": "ipython",
    "version": 3
   },
   "file_extension": ".py",
   "mimetype": "text/x-python",
   "name": "python",
   "nbconvert_exporter": "python",
   "pygments_lexer": "ipython3",
   "version": "3.11.13"
  }
 },
 "nbformat": 4,
 "nbformat_minor": 5
}
